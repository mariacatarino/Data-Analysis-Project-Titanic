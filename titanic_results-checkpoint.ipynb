{
 "cells": [
  {
   "cell_type": "code",
   "execution_count": 1,
   "id": "cd56ae4a-e8aa-4de5-9589-c5ef376baa52",
   "metadata": {},
   "outputs": [],
   "source": [
    "import pandas as pd"
   ]
  },
  {
   "cell_type": "code",
   "execution_count": 9,
   "id": "1416d868-c482-4f04-bb91-e100ee00a7bb",
   "metadata": {},
   "outputs": [],
   "source": [
    "titanic = pd.read_csv('titanic.csv')"
   ]
  },
  {
   "cell_type": "code",
   "execution_count": 11,
   "id": "4e459488-b911-4432-a7e6-6f5b9436dded",
   "metadata": {},
   "outputs": [],
   "source": [
    "titanic = titanic[['Name','Age','Sex','Pclass','Survived']]\n",
    "titanic = titanic.loc[(titanic['Sex']=='female') & (titanic['Pclass'] == 1) & (titanic['Survived'] == 1)]\n",
    "titanic = titanic.sort_values('Name')"
   ]
  },
  {
   "cell_type": "code",
   "execution_count": 12,
   "id": "95dade71-a345-478e-b463-a68afffb5cb0",
   "metadata": {},
   "outputs": [],
   "source": [
    "titanic.to_csv('titanic_results.csv', index = False)"
   ]
  }
 ],
 "metadata": {
  "kernelspec": {
   "display_name": "Python 3 (ipykernel)",
   "language": "python",
   "name": "python3"
  },
  "language_info": {
   "codemirror_mode": {
    "name": "ipython",
    "version": 3
   },
   "file_extension": ".py",
   "mimetype": "text/x-python",
   "name": "python",
   "nbconvert_exporter": "python",
   "pygments_lexer": "ipython3",
   "version": "3.9.7"
  }
 },
 "nbformat": 4,
 "nbformat_minor": 5
}
